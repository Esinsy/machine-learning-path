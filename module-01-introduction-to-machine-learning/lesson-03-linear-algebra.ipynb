{
 "cells": [
  {
   "cell_type": "markdown",
   "id": "886f45ed-f8a2-4123-b50b-e1a5b8885fe5",
   "metadata": {},
   "source": [
    "# **Lesson 03: Linear Algebra**\n",
    "\n",
    "Linear algebra is a fundamental area of mathematics for understanding machine learning.  \n",
    "Concepts like vectors, matrices, and transformations form the backbone of many algorithms.\n",
    "\n",
    "### Useful Resources\n",
    "- [Linear Algebra – Khan Academy](https://www.khanacademy.org/math/linear-algebra)  \n",
    "- [MIT OpenCourseWare – Linear Algebra (Prof. Gilbert Strang)](https://ocw.mit.edu/courses/18-06-linear-algebra-spring-2010/)  \n",
    "- [3Blue1Brown – Essence of Linear Algebra (YouTube series)](https://www.youtube.com/playlist?list=PLZHQObOWTQDPD3MizzM2xVFitgF8hE_ab)  \n",
    "- [Deep Learning Book – Linear Algebra Chapter](https://www.deeplearningbook.org/contents/linear_algebra.html)  \n",
    "- [Introduction to Linear Algebra for Applied Machine Learning (MachineLearningMastery)](https://machinelearningmastery.com/linear-algebra-for-machine-learning/)\n"
   ]
  },
  {
   "cell_type": "code",
   "execution_count": null,
   "id": "1b4f9ce3-ddf8-4013-a42b-fdd1c902f44d",
   "metadata": {},
   "outputs": [],
   "source": []
  }
 ],
 "metadata": {
  "kernelspec": {
   "display_name": "Python 3 (ipykernel)",
   "language": "python",
   "name": "python3"
  },
  "language_info": {
   "codemirror_mode": {
    "name": "ipython",
    "version": 3
   },
   "file_extension": ".py",
   "mimetype": "text/x-python",
   "name": "python",
   "nbconvert_exporter": "python",
   "pygments_lexer": "ipython3",
   "version": "3.11.6"
  }
 },
 "nbformat": 4,
 "nbformat_minor": 5
}
