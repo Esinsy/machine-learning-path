{
 "cells": [
  {
   "cell_type": "markdown",
   "id": "be9ebf02-0a12-4fdf-b124-82c45a30e3e0",
   "metadata": {},
   "source": [
    "# **Lesson 02: Introduction to NumPy**\n",
    "\n",
    "This notebook introduces the fundamentals of NumPy, Python's powerful numerical computing library.  \n",
    "We'll cover array creation, basic operations, broadcasting, indexing, and more.\n",
    "\n",
    "📌 **Plan**:  \n",
    "\n",
    "- 🔢 Creating arrays  \n",
    "- 🧩 Multi-dimensional arrays  \n",
    "- 🎲 Randomly generated arrays  \n",
    "- ⚡ Element-wise operations  \n",
    "  - 🔍 Comparison operations  \n",
    "  - ✅ Logical operations  \n",
    "- 📊 Summarizing operations  \n",
    "\n"
   ]
  },
  {
   "cell_type": "markdown",
   "id": "7b325029-c115-443b-8630-1e1bb078bdfc",
   "metadata": {},
   "source": [
    "## **🔹 Importing NumPy**\n",
    "We start by importing **NumPy** with the alias `np`, which is the standard convention used in almost all projects.  \n",
    "This makes it easier and faster to call NumPy functions.\n",
    "\n",
    "📖 Official documentation: [NumPy Reference](https://numpy.org/doc/)\n",
    "\n",
    "## **📚 Interesting Background**\n",
    "\n",
    "NumPy (short for **Numerical Python**) was originally created in 2005 by **Travis Oliphant**, who merged two earlier Python libraries: **Numeric** and **Numarray**.  \n",
    "It quickly became the **core scientific computing library in Python**, forming the foundation of libraries such as **pandas, SciPy, scikit-learn, TensorFlow, and PyTorch**.\n",
    "\n",
    "🔗 Learn more about the history and impact of NumPy:\n",
    "\n",
    "- [The History of NumPy (Nature article)](https://www.nature.com/articles/d41586-020-03382-2)  \n",
    "- [NumPy: The fundamental package for scientific computing in Python (Official About page)](https://numpy.org/about/)\n",
    "\n"
   ]
  },
  {
   "cell_type": "code",
   "execution_count": 1,
   "id": "9f1bf2c0-b8bc-4fb3-84c2-ab97c9089fbc",
   "metadata": {},
   "outputs": [],
   "source": [
    "import numpy as np"
   ]
  },
  {
   "cell_type": "markdown",
   "id": "0d981878-e7e8-4380-9dd9-adcf33163447",
   "metadata": {},
   "source": [
    "## **🔹 Creating Arrays**\n",
    "\n",
    "NumPy arrays are the core data structure used for numerical computations.  \n",
    "They are more efficient and flexible than Python lists, allowing fast operations on large datasets.\n",
    "\n",
    "We can create arrays in multiple ways:\n",
    "- From Python lists or tuples  \n",
    "- Using built-in functions like `np.zeros()`, `np.ones()`, `np.arange()`, and `np.linspace()`  \n",
    "- With random number generators such as `np.random.rand()`  \n",
    "\n",
    "👉 Arrays form the foundation for all operations in NumPy.\n"
   ]
  },
  {
   "cell_type": "code",
   "execution_count": 2,
   "id": "5a622918-fa66-4e83-9366-ff29161f45a9",
   "metadata": {},
   "outputs": [
    {
     "data": {
      "text/plain": [
       "array([0., 0., 0., 0., 0., 0., 0., 0., 0., 0.])"
      ]
     },
     "execution_count": 2,
     "metadata": {},
     "output_type": "execute_result"
    }
   ],
   "source": [
    "np.zeros(10)"
   ]
  },
  {
   "cell_type": "code",
   "execution_count": 3,
   "id": "edf3f289-1db8-40cf-abbf-4b2f547cc343",
   "metadata": {},
   "outputs": [
    {
     "data": {
      "text/plain": [
       "array([0., 0., 0., 0., 0., 0., 0., 0., 0., 0.])"
      ]
     },
     "execution_count": 3,
     "metadata": {},
     "output_type": "execute_result"
    }
   ],
   "source": [
    "np.zeros(10)"
   ]
  },
  {
   "cell_type": "code",
   "execution_count": 5,
   "id": "18419e24-9622-4cc4-9525-6db912a7ec4e",
   "metadata": {},
   "outputs": [
    {
     "data": {
      "text/plain": [
       "array([2.5, 2.5, 2.5, 2.5, 2.5, 2.5, 2.5, 2.5, 2.5, 2.5])"
      ]
     },
     "execution_count": 5,
     "metadata": {},
     "output_type": "execute_result"
    }
   ],
   "source": [
    "np.full(10,2.5)"
   ]
  },
  {
   "cell_type": "code",
   "execution_count": 9,
   "id": "2e4d410e-5305-4af7-8dca-05736cf20f01",
   "metadata": {},
   "outputs": [
    {
     "data": {
      "text/plain": [
       "array([ 1,  2,  3,  5,  7, 12])"
      ]
     },
     "execution_count": 9,
     "metadata": {},
     "output_type": "execute_result"
    }
   ],
   "source": [
    "a = np.array([1,2,3,5,7,12])\n",
    "a"
   ]
  },
  {
   "cell_type": "code",
   "execution_count": 10,
   "id": "96ee8303-e13e-479a-a909-7bb58860af2f",
   "metadata": {},
   "outputs": [
    {
     "data": {
      "text/plain": [
       "np.int64(3)"
      ]
     },
     "execution_count": 10,
     "metadata": {},
     "output_type": "execute_result"
    }
   ],
   "source": [
    "a[2]"
   ]
  },
  {
   "cell_type": "code",
   "execution_count": 11,
   "id": "73308c29-a8c7-4483-9ba1-17c6c93229c9",
   "metadata": {},
   "outputs": [],
   "source": [
    "a[2] = 10"
   ]
  },
  {
   "cell_type": "code",
   "execution_count": 12,
   "id": "c7d22184-1b4a-48e1-825c-a0dfd15aeab6",
   "metadata": {},
   "outputs": [
    {
     "data": {
      "text/plain": [
       "array([ 1,  2, 10,  5,  7, 12])"
      ]
     },
     "execution_count": 12,
     "metadata": {},
     "output_type": "execute_result"
    }
   ],
   "source": [
    "a"
   ]
  },
  {
   "cell_type": "code",
   "execution_count": 13,
   "id": "c14053cc-c1b4-4a38-9de0-af4360c40ec6",
   "metadata": {},
   "outputs": [
    {
     "data": {
      "text/plain": [
       "array([0, 1, 2, 3, 4, 5, 6, 7, 8, 9])"
      ]
     },
     "execution_count": 13,
     "metadata": {},
     "output_type": "execute_result"
    }
   ],
   "source": [
    "np.arange(10)"
   ]
  },
  {
   "cell_type": "code",
   "execution_count": 14,
   "id": "348e577f-a78c-4828-bd2f-94f6fa199386",
   "metadata": {},
   "outputs": [
    {
     "data": {
      "text/plain": [
       "array([3, 4, 5, 6, 7, 8, 9])"
      ]
     },
     "execution_count": 14,
     "metadata": {},
     "output_type": "execute_result"
    }
   ],
   "source": [
    "np.arange(3,10)"
   ]
  },
  {
   "cell_type": "code",
   "execution_count": 18,
   "id": "ae5d2529-7cb0-4cdb-a6b1-bcc8490dc241",
   "metadata": {},
   "outputs": [
    {
     "data": {
      "text/plain": [
       "array([  0.,  10.,  20.,  30.,  40.,  50.,  60.,  70.,  80.,  90., 100.])"
      ]
     },
     "execution_count": 18,
     "metadata": {},
     "output_type": "execute_result"
    }
   ],
   "source": [
    "np.linspace(0,100, 11)"
   ]
  },
  {
   "cell_type": "markdown",
   "id": "b20ee642-3816-4fdf-9c62-40a2e86091c4",
   "metadata": {},
   "source": [
    "## **🔹 Multi-dimensional Arrays**\n",
    "\n",
    "NumPy supports arrays with more than one dimension (also called **matrices** or **tensors**).  \n",
    "These allow us to represent data in rows and columns, or even higher dimensions.\n",
    "\n",
    "Common examples:\n",
    "- 2D arrays → tables or matrices  \n",
    "- 3D arrays → images or stacked data  \n",
    "- nD arrays → tensors for advanced computations (e.g., in deep learning)\n",
    "\n",
    "👉 Multi-dimensional arrays are the foundation of numerical computing, enabling operations on structured data.\n"
   ]
  },
  {
   "cell_type": "code",
   "execution_count": 19,
   "id": "0571a383-d5b2-455a-bd0f-cd0f2c8eec31",
   "metadata": {},
   "outputs": [
    {
     "data": {
      "text/plain": [
       "array([[0., 0.],\n",
       "       [0., 0.],\n",
       "       [0., 0.],\n",
       "       [0., 0.],\n",
       "       [0., 0.]])"
      ]
     },
     "execution_count": 19,
     "metadata": {},
     "output_type": "execute_result"
    }
   ],
   "source": [
    "np.zeros((5,2))"
   ]
  },
  {
   "cell_type": "code",
   "execution_count": 22,
   "id": "ecf67460-8f59-4fd8-ad97-90570fe26f50",
   "metadata": {},
   "outputs": [],
   "source": [
    "n = np.array([[1,2,3],\n",
    "         [4,5,6],\n",
    "         [7,8,9]\n",
    "         ])"
   ]
  },
  {
   "cell_type": "code",
   "execution_count": 23,
   "id": "f07d692d-3c93-4601-98ff-2f100ad71c1a",
   "metadata": {},
   "outputs": [
    {
     "data": {
      "text/plain": [
       "np.int64(3)"
      ]
     },
     "execution_count": 23,
     "metadata": {},
     "output_type": "execute_result"
    }
   ],
   "source": [
    "n[0][2]"
   ]
  },
  {
   "cell_type": "code",
   "execution_count": 24,
   "id": "461237cb-b8e2-43a0-b9d6-85e1f43ab2ef",
   "metadata": {},
   "outputs": [],
   "source": [
    "n[0,1] = 10"
   ]
  },
  {
   "cell_type": "code",
   "execution_count": 26,
   "id": "b5fc4b6f-bac8-4f5b-b86d-4f288134fca9",
   "metadata": {},
   "outputs": [
    {
     "data": {
      "text/plain": [
       "array([ 1, 10,  3])"
      ]
     },
     "execution_count": 26,
     "metadata": {},
     "output_type": "execute_result"
    }
   ],
   "source": [
    "n[0]"
   ]
  },
  {
   "cell_type": "code",
   "execution_count": 27,
   "id": "d8ebf1ca-30b1-4028-8b90-e5356d8fe582",
   "metadata": {},
   "outputs": [],
   "source": [
    "n[2] = [1,1,1]"
   ]
  },
  {
   "cell_type": "code",
   "execution_count": 28,
   "id": "64162d83-0f26-4813-bfd6-712a9e11d8f0",
   "metadata": {},
   "outputs": [
    {
     "data": {
      "text/plain": [
       "array([[ 1, 10,  3],\n",
       "       [ 4,  5,  6],\n",
       "       [ 1,  1,  1]])"
      ]
     },
     "execution_count": 28,
     "metadata": {},
     "output_type": "execute_result"
    }
   ],
   "source": [
    "n"
   ]
  },
  {
   "cell_type": "code",
   "execution_count": 29,
   "id": "6190a155-43e0-4927-b79f-61f957876024",
   "metadata": {},
   "outputs": [
    {
     "data": {
      "text/plain": [
       "array([10,  5,  1])"
      ]
     },
     "execution_count": 29,
     "metadata": {},
     "output_type": "execute_result"
    }
   ],
   "source": [
    "n[:,1]"
   ]
  },
  {
   "cell_type": "code",
   "execution_count": 30,
   "id": "1bd7d2f5-fcef-4a4e-a947-1a56cebbc59c",
   "metadata": {},
   "outputs": [
    {
     "data": {
      "text/plain": [
       "array([3, 6, 1])"
      ]
     },
     "execution_count": 30,
     "metadata": {},
     "output_type": "execute_result"
    }
   ],
   "source": [
    "n[:, 2]"
   ]
  },
  {
   "cell_type": "code",
   "execution_count": 31,
   "id": "cbd933fa-9946-47d6-bbfc-549a2c332799",
   "metadata": {},
   "outputs": [],
   "source": [
    "n[:, 2] = [0,1,2]"
   ]
  },
  {
   "cell_type": "code",
   "execution_count": 32,
   "id": "3a9fe80c-ad2d-4f81-9f40-7d7313fc20f3",
   "metadata": {},
   "outputs": [
    {
     "data": {
      "text/plain": [
       "array([[ 1, 10,  0],\n",
       "       [ 4,  5,  1],\n",
       "       [ 1,  1,  2]])"
      ]
     },
     "execution_count": 32,
     "metadata": {},
     "output_type": "execute_result"
    }
   ],
   "source": [
    "n"
   ]
  },
  {
   "cell_type": "markdown",
   "id": "1ad4aaee-6d30-4bfe-a6d2-18372932bd24",
   "metadata": {},
   "source": [
    "## **🔹 Randomly Generated Arrays**\n",
    "\n",
    "NumPy provides tools for generating arrays filled with random numbers.  \n",
    "These arrays are useful for simulations, testing algorithms, or initializing model parameters.  \n",
    "\n",
    "You can generate:\n",
    "- Uniformly distributed numbers with `np.random.rand()`  \n",
    "- Normally distributed numbers with `np.random.randn()`  \n",
    "- Random integers with `np.random.randint()`  \n",
    "\n",
    "👉 Random arrays are essential when working with probabilistic models, machine learning, and data sampling.\n"
   ]
  },
  {
   "cell_type": "code",
   "execution_count": 36,
   "id": "ae3daac5-896c-459a-8fbc-4dd941b0cbd2",
   "metadata": {},
   "outputs": [
    {
     "data": {
      "text/plain": [
       "array([[0.79725456, 0.96690625],\n",
       "       [0.99727305, 0.2875957 ],\n",
       "       [0.48708916, 0.32630265],\n",
       "       [0.03657006, 0.43549415],\n",
       "       [0.40311678, 0.15724101]])"
      ]
     },
     "execution_count": 36,
     "metadata": {},
     "output_type": "execute_result"
    }
   ],
   "source": [
    "np.random.rand(5,2)"
   ]
  },
  {
   "cell_type": "code",
   "execution_count": 37,
   "id": "33617d35-bc04-43ca-beac-8ed7a6aaf31e",
   "metadata": {},
   "outputs": [],
   "source": [
    "np.random.seed(10)"
   ]
  },
  {
   "cell_type": "markdown",
   "id": "831cfc0c-b507-4d35-9c3c-a0502bb13b6d",
   "metadata": {},
   "source": [
    "## **🔹 Element-wise Operations**\n",
    "\n",
    "NumPy allows mathematical operations to be applied **element by element** across arrays.  \n",
    "This makes computations fast and concise compared to traditional Python loops.  \n",
    "\n",
    "Examples include:\n",
    "- Arithmetic operations: `+`, `-`, `*`, `/`, `**`  \n",
    "- Comparison operations: `<`, `>`, `==`, `!=`  \n",
    "- Logical operations: `&`, `|`, `~`  \n",
    "\n",
    "👉 Element-wise operations are one of the key reasons NumPy is so powerful for numerical computing.\n"
   ]
  },
  {
   "cell_type": "code",
   "execution_count": 40,
   "id": "ab180728-42b3-4316-a78b-20f5f4d4d416",
   "metadata": {},
   "outputs": [
    {
     "data": {
      "text/plain": [
       "array([0, 1, 2, 3, 4])"
      ]
     },
     "execution_count": 40,
     "metadata": {},
     "output_type": "execute_result"
    }
   ],
   "source": [
    "a = np.arange(5)\n",
    "a"
   ]
  },
  {
   "cell_type": "code",
   "execution_count": 41,
   "id": "7e31eb21-e9c5-4688-8f9d-1306667d9137",
   "metadata": {},
   "outputs": [
    {
     "data": {
      "text/plain": [
       "array([1, 2, 3, 4, 5])"
      ]
     },
     "execution_count": 41,
     "metadata": {},
     "output_type": "execute_result"
    }
   ],
   "source": [
    "a + 1"
   ]
  },
  {
   "cell_type": "code",
   "execution_count": 42,
   "id": "917b3814-c61b-4959-95e7-250c7181b2f3",
   "metadata": {},
   "outputs": [],
   "source": [
    "b = (10 + (a * 2)) ** 2 / 100"
   ]
  },
  {
   "cell_type": "code",
   "execution_count": 43,
   "id": "ef0e4230-963c-4a7d-92ba-2201160fc556",
   "metadata": {},
   "outputs": [
    {
     "data": {
      "text/plain": [
       "array([1.  , 2.44, 3.96, 5.56, 7.24])"
      ]
     },
     "execution_count": 43,
     "metadata": {},
     "output_type": "execute_result"
    }
   ],
   "source": [
    "a + b"
   ]
  },
  {
   "cell_type": "code",
   "execution_count": 44,
   "id": "55c3dcce-496f-4222-b58e-a67e1f72e74d",
   "metadata": {},
   "outputs": [
    {
     "data": {
      "text/plain": [
       "array([0.        , 0.69444444, 1.02040816, 1.171875  , 1.2345679 ])"
      ]
     },
     "execution_count": 44,
     "metadata": {},
     "output_type": "execute_result"
    }
   ],
   "source": [
    "a / b"
   ]
  },
  {
   "cell_type": "code",
   "execution_count": 45,
   "id": "eacf21a2-b7d4-4100-8f38-f404b3c9b919",
   "metadata": {},
   "outputs": [
    {
     "data": {
      "text/plain": [
       "array([10.        , 10.69444444, 11.02040816, 11.171875  , 11.2345679 ])"
      ]
     },
     "execution_count": 45,
     "metadata": {},
     "output_type": "execute_result"
    }
   ],
   "source": [
    "a / b +10"
   ]
  },
  {
   "cell_type": "markdown",
   "id": "2aacb411-ca0c-4d3e-aad3-8f99d188206c",
   "metadata": {},
   "source": [
    "### **🔹 Comparison Operations**\n",
    "\n",
    "NumPy supports element-wise comparison between arrays or between an array and a scalar.  \n",
    "The result is a boolean array indicating whether the condition is `True` or `False`.  \n",
    "\n",
    "Examples:\n",
    "- `a > 5` → checks if each element is greater than 5  \n",
    "- `a == 0` → checks equality with zero  \n",
    "\n",
    "👉 Useful for filtering, masking, and conditional operations on data.\n"
   ]
  },
  {
   "cell_type": "code",
   "execution_count": 46,
   "id": "17eee5cf-5e38-438d-9927-2ca2f84bfcdd",
   "metadata": {},
   "outputs": [
    {
     "data": {
      "text/plain": [
       "array([0, 1, 2, 3, 4])"
      ]
     },
     "execution_count": 46,
     "metadata": {},
     "output_type": "execute_result"
    }
   ],
   "source": [
    "a "
   ]
  },
  {
   "cell_type": "code",
   "execution_count": 47,
   "id": "cad6d7b1-229b-4b65-9c2a-e1ea4360a603",
   "metadata": {},
   "outputs": [
    {
     "data": {
      "text/plain": [
       "array([False, False,  True,  True,  True])"
      ]
     },
     "execution_count": 47,
     "metadata": {},
     "output_type": "execute_result"
    }
   ],
   "source": [
    "a >= 2"
   ]
  },
  {
   "cell_type": "code",
   "execution_count": 48,
   "id": "b6246f39-7593-4492-8b31-55c09cd6d9a5",
   "metadata": {},
   "outputs": [
    {
     "data": {
      "text/plain": [
       "array([1.  , 1.44, 1.96, 2.56, 3.24])"
      ]
     },
     "execution_count": 48,
     "metadata": {},
     "output_type": "execute_result"
    }
   ],
   "source": [
    "b"
   ]
  },
  {
   "cell_type": "code",
   "execution_count": 49,
   "id": "524f4770-b796-443d-a5e9-1eb14d8ae972",
   "metadata": {},
   "outputs": [
    {
     "data": {
      "text/plain": [
       "array([False, False,  True,  True,  True])"
      ]
     },
     "execution_count": 49,
     "metadata": {},
     "output_type": "execute_result"
    }
   ],
   "source": [
    "a > b"
   ]
  },
  {
   "cell_type": "code",
   "execution_count": 50,
   "id": "f957b501-efda-4c93-a8c1-fe21a33111c0",
   "metadata": {},
   "outputs": [
    {
     "data": {
      "text/plain": [
       "array([2, 3, 4])"
      ]
     },
     "execution_count": 50,
     "metadata": {},
     "output_type": "execute_result"
    }
   ],
   "source": [
    "a[a>b]"
   ]
  },
  {
   "cell_type": "markdown",
   "id": "0f1966d8-20f3-431e-bf30-ed0beec2dfee",
   "metadata": {},
   "source": [
    "### **🔹 Logical Operations**\n",
    "\n",
    "Logical operations combine multiple boolean conditions element-wise.  \n",
    "They return arrays of `True`/`False` values based on logical rules.  \n",
    "\n",
    "Examples:\n",
    "- `&` → logical AND  \n",
    "- `|` → logical OR  \n",
    "- `~` → logical NOT  \n",
    "\n",
    "👉 Logical operations are often used with comparisons to build complex conditions, e.g. `(a > 2) & (a < 10)`.\n"
   ]
  },
  {
   "cell_type": "markdown",
   "id": "d247c962-6d45-40b1-8fd2-8023b98f6db2",
   "metadata": {},
   "source": []
  },
  {
   "cell_type": "markdown",
   "id": "daec1dcc-1d5f-4fbe-b202-05a1950de5ad",
   "metadata": {},
   "source": [
    "## **🔹 Summarizing Operations**\n",
    "\n",
    "NumPy provides functions to quickly compute summary statistics across arrays.  \n",
    "These operations can be applied to the entire array or along specific axes (rows or columns).  \n",
    "\n",
    "Common examples:\n",
    "- `np.sum()` → total of all elements  \n",
    "- `np.mean()` → average value  \n",
    "- `np.min()`, `np.max()` → minimum and maximum values  \n",
    "- `np.std()` → standard deviation  \n",
    "\n",
    "👉 Summarizing operations are essential for understanding the overall properties of your data.\n"
   ]
  },
  {
   "cell_type": "code",
   "execution_count": 51,
   "id": "e78f75a3-a390-412f-9948-71a0b4d44088",
   "metadata": {},
   "outputs": [
    {
     "data": {
      "text/plain": [
       "array([0, 1, 2, 3, 4])"
      ]
     },
     "execution_count": 51,
     "metadata": {},
     "output_type": "execute_result"
    }
   ],
   "source": [
    "a"
   ]
  },
  {
   "cell_type": "code",
   "execution_count": 53,
   "id": "9cff9616-43ed-4f46-84e1-f8880cb1d493",
   "metadata": {},
   "outputs": [
    {
     "data": {
      "text/plain": [
       "np.int64(4)"
      ]
     },
     "execution_count": 53,
     "metadata": {},
     "output_type": "execute_result"
    }
   ],
   "source": [
    "a.max()"
   ]
  },
  {
   "cell_type": "code",
   "execution_count": null,
   "id": "37168cf7-7207-4db4-9028-14faa0fe739d",
   "metadata": {},
   "outputs": [],
   "source": []
  }
 ],
 "metadata": {
  "kernelspec": {
   "display_name": "Python 3 (ipykernel)",
   "language": "python",
   "name": "python3"
  },
  "language_info": {
   "codemirror_mode": {
    "name": "ipython",
    "version": 3
   },
   "file_extension": ".py",
   "mimetype": "text/x-python",
   "name": "python",
   "nbconvert_exporter": "python",
   "pygments_lexer": "ipython3",
   "version": "3.11.6"
  }
 },
 "nbformat": 4,
 "nbformat_minor": 5
}
